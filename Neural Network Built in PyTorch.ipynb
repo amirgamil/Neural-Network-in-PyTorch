{
 "cells": [
  {
   "cell_type": "code",
   "execution_count": 1,
   "metadata": {},
   "outputs": [],
   "source": [
    "import torch\n",
    "import torch.nn as nn\n",
    "import torch.nn.functional as F\n",
    "import os\n",
    "import numpy as np"
   ]
  },
  {
   "cell_type": "code",
   "execution_count": 3,
   "metadata": {},
   "outputs": [
    {
     "data": {
      "text/plain": [
       "torch.Size([3, 2])"
      ]
     },
     "execution_count": 3,
     "metadata": {},
     "output_type": "execute_result"
    }
   ],
   "source": [
    "#define tensors in pytorch - same as arrays in numpy - with tensor\n",
    "X = torch.tensor(([2,9], [1,5], [3,6]), dtype=torch.float) #3x2 tensor\n",
    "y = torch.tensor(([92], [100], [89]), dtype=torch.float) #3 by 1 tensor\n",
    "x_test = torch.tensor(([4, 8]))\n",
    "\n",
    "#can check the size with .size()\n",
    "X.size()"
   ]
  },
  {
   "cell_type": "code",
   "execution_count": 6,
   "metadata": {},
   "outputs": [
    {
     "name": "stdout",
     "output_type": "stream",
     "text": [
      "tensor([[0.6667, 1.0000],\n",
      "        [0.3333, 0.5556],\n",
      "        [1.0000, 0.6667]])\n"
     ]
    }
   ],
   "source": [
    "#apply scaling\n",
    "#max function returns max element and indice\n",
    "X_max, _ = torch.max(X, 0)\n",
    "xPredicted_max, _ = torch.max(x_test, 0)\n",
    "\n",
    "#divides all the elements by X_max - in this case X_max return largest single value in the matrices i.e. 9\n",
    "X = torch.div(X, X_max)\n",
    "x_test = torch.div(x_test, xPredicted_max)\n",
    "y = y/100\n",
    "print(X)"
   ]
  },
  {
   "cell_type": "code",
   "execution_count": null,
   "metadata": {},
   "outputs": [],
   "source": [
    "#Building The Neural Network\n",
    "#nn.module is the base class for any module in PyTorch\n",
    "class NeuralNetwork(nn.Module):\n",
    "    def __init__(self, x, y):\n",
    "        super(NeuralNetwork, self).__init__()\n",
    "        self.inputSize = X[0].size()\n",
    "        self.outputSize = y[0].size()\n",
    "        self.hiddenNodes = 3\n",
    "        \n",
    "        self.W1 = torch.randn(self.inputSize, self.hiddenSize) #Tensor is 2 by 3 since (1 by 2) * (2 by 3) gives desired (1 by 3)\n",
    "        self.W2 = torch.randn(self.hiddenSize, self.outputSize) #Tesnsor is 3 by 1\n",
    "        \n",
    "    def forward(self, X):\n",
    "        self.z = torch.matmul(X, self.W1)\n",
    "        self.z2 = self.sigmoid(self.z)\n",
    "        self.z3 = torch.matmul(self.z2, self.W2)\n",
    "        o = self.sigmoid(self.z3)\n",
    "        return o\n",
    "        \n",
    "    def sigmoid(self, s):\n",
    "        return 1 / (1 + torch.exp(-s))\n",
    "    \n",
    "    def sigmoidPrime(self, s):\n",
    "        return s * (1-s)\n",
    "    \n",
    "    def backward(self, x, y, o):\n",
    "        self.o_error = y - o\n",
    "        self.o_delta = self.o_error * self.sigmoidPrime(o)\n",
    "        self.z2_error = torch.matmul\n",
    "    "
   ]
  }
 ],
 "metadata": {
  "kernelspec": {
   "display_name": "Python 3",
   "language": "python",
   "name": "python3"
  },
  "language_info": {
   "codemirror_mode": {
    "name": "ipython",
    "version": 3
   },
   "file_extension": ".py",
   "mimetype": "text/x-python",
   "name": "python",
   "nbconvert_exporter": "python",
   "pygments_lexer": "ipython3",
   "version": "3.7.4"
  }
 },
 "nbformat": 4,
 "nbformat_minor": 2
}
